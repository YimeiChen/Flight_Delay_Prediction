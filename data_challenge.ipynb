{
 "cells": [
  {
   "cell_type": "code",
   "execution_count": 1,
   "metadata": {
    "collapsed": true
   },
   "outputs": [],
   "source": [
    "import sys\n",
    "sys.path.append('/Users/Yimei/Desktop/module2/ml/fastai')\n",
    "from fastai.imports import *\n",
    "from fastai.structured import *\n",
    "\n",
    "from pandas_summary import DataFrameSummary\n",
    "from sklearn.ensemble import RandomForestClassifier\n",
    "\n",
    "\n",
    "from sklearn import metrics\n",
    "\n",
    "from datetime import date\n",
    "import holidays\n",
    "import pandas as pd\n",
    "\n",
    "from sklearn.model_selection import ParameterGrid\n",
    "from sklearn.metrics import mean_squared_error\n",
    "import parfit.parfit as pf"
   ]
  },
  {
   "cell_type": "code",
   "execution_count": 2,
   "metadata": {
    "collapsed": true
   },
   "outputs": [],
   "source": [
    "%load_ext autoreload\n",
    "%autoreload 2\n",
    "%matplotlib inline"
   ]
  },
  {
   "cell_type": "markdown",
   "metadata": {},
   "source": [
    "Thoughts before starting: \n",
    "- it's a prediction problem and with structured data\n",
    "- model selection is about the trade-off between interpretability and flexiblity - depends on the business scenario: is the main goal to output productionize predictive model or trying to derive actionable insights from data. \n",
    "- Classification trees are robust to outliers, scalable, and able to naturally model non-linear decision boundaries thanks to their hierarchical structure.\n",
    "- sklearn's random forest package also comes with some handy function to derive insights from interpretation of the model, we can come up with more interesting findings other than the prediction and model performance"
   ]
  },
  {
   "cell_type": "code",
   "execution_count": null,
   "metadata": {
    "collapsed": true
   },
   "outputs": [],
   "source": []
  },
  {
   "cell_type": "markdown",
   "metadata": {},
   "source": [
    "## 1. read in data and take a quick glimpse "
   ]
  },
  {
   "cell_type": "code",
   "execution_count": 3,
   "metadata": {
    "collapsed": true
   },
   "outputs": [],
   "source": [
    "data = pd.read_csv(\"aggregated.csv\")"
   ]
  },
  {
   "cell_type": "code",
   "execution_count": 4,
   "metadata": {},
   "outputs": [
    {
     "name": "stdout",
     "output_type": "stream",
     "text": [
      "<class 'pandas.core.frame.DataFrame'>\n",
      "RangeIndex: 5129354 entries, 0 to 5129353\n",
      "Data columns (total 14 columns):\n",
      "MONTH               float64\n",
      "DAY_OF_WEEK         float64\n",
      "FL_DATE             object\n",
      "UNIQUE_CARRIER      object\n",
      "FL_NUM              float64\n",
      "ORIGIN              object\n",
      "ORIGIN_CITY_NAME    object\n",
      "DEST                object\n",
      "DEST_CITY_NAME      object\n",
      "CRS_DEP_TIME        float64\n",
      "ARR_DEL15           float64\n",
      "CRS_ELAPSED_TIME    float64\n",
      "DISTANCE            float64\n",
      "Unnamed: 13         float64\n",
      "dtypes: float64(8), object(6)\n",
      "memory usage: 547.9+ MB\n"
     ]
    }
   ],
   "source": [
    "data.info()"
   ]
  },
  {
   "cell_type": "code",
   "execution_count": 5,
   "metadata": {},
   "outputs": [
    {
     "data": {
      "text/plain": [
       "0.0    4147263\n",
       "1.0     911071\n",
       "Name: ARR_DEL15, dtype: int64"
      ]
     },
     "execution_count": 5,
     "metadata": {},
     "output_type": "execute_result"
    }
   ],
   "source": [
    "data['ARR_DEL15'].value_counts()"
   ]
  },
  {
   "cell_type": "code",
   "execution_count": 8,
   "metadata": {},
   "outputs": [
    {
     "data": {
      "text/plain": [
       "('2016-04-01', '2017-02-28')"
      ]
     },
     "execution_count": 8,
     "metadata": {},
     "output_type": "execute_result"
    }
   ],
   "source": [
    "data[\"FL_DATE\"].min(),data[\"FL_DATE\"].max()"
   ]
  },
  {
   "cell_type": "code",
   "execution_count": 106,
   "metadata": {
    "collapsed": true
   },
   "outputs": [],
   "source": [
    "#let's take a subsample \n",
    "np.random.seed(3)\n",
    "msk = np.random.rand(len(data)) < 0.2\n",
    "subdata = data[msk].copy()"
   ]
  },
  {
   "cell_type": "code",
   "execution_count": 107,
   "metadata": {},
   "outputs": [
    {
     "data": {
      "text/html": [
       "<div>\n",
       "<style scoped>\n",
       "    .dataframe tbody tr th:only-of-type {\n",
       "        vertical-align: middle;\n",
       "    }\n",
       "\n",
       "    .dataframe tbody tr th {\n",
       "        vertical-align: top;\n",
       "    }\n",
       "\n",
       "    .dataframe thead th {\n",
       "        text-align: right;\n",
       "    }\n",
       "</style>\n",
       "<table border=\"1\" class=\"dataframe\">\n",
       "  <thead>\n",
       "    <tr style=\"text-align: right;\">\n",
       "      <th></th>\n",
       "      <th>MONTH</th>\n",
       "      <th>DAY_OF_WEEK</th>\n",
       "      <th>FL_DATE</th>\n",
       "      <th>UNIQUE_CARRIER</th>\n",
       "      <th>FL_NUM</th>\n",
       "      <th>ORIGIN</th>\n",
       "      <th>ORIGIN_CITY_NAME</th>\n",
       "      <th>DEST</th>\n",
       "      <th>DEST_CITY_NAME</th>\n",
       "      <th>CRS_DEP_TIME</th>\n",
       "      <th>ARR_DEL15</th>\n",
       "      <th>CRS_ELAPSED_TIME</th>\n",
       "      <th>DISTANCE</th>\n",
       "      <th>Unnamed: 13</th>\n",
       "      <th>DEST_CITY</th>\n",
       "      <th>DEST_STATE</th>\n",
       "      <th>ORIG_CITY</th>\n",
       "      <th>ORIG_STATE</th>\n",
       "    </tr>\n",
       "  </thead>\n",
       "  <tbody>\n",
       "    <tr>\n",
       "      <th>6</th>\n",
       "      <td>2.0</td>\n",
       "      <td>5.0</td>\n",
       "      <td>2017-02-03</td>\n",
       "      <td>B6</td>\n",
       "      <td>33.0</td>\n",
       "      <td>BTV</td>\n",
       "      <td>Burlington, VT</td>\n",
       "      <td>JFK</td>\n",
       "      <td>New York, NY</td>\n",
       "      <td>1907.0</td>\n",
       "      <td>0.0</td>\n",
       "      <td>90.0</td>\n",
       "      <td>266.0</td>\n",
       "      <td>NaN</td>\n",
       "      <td>New York</td>\n",
       "      <td>NY</td>\n",
       "      <td>Burlington</td>\n",
       "      <td>VT</td>\n",
       "    </tr>\n",
       "    <tr>\n",
       "      <th>8</th>\n",
       "      <td>2.0</td>\n",
       "      <td>7.0</td>\n",
       "      <td>2017-02-05</td>\n",
       "      <td>B6</td>\n",
       "      <td>33.0</td>\n",
       "      <td>BTV</td>\n",
       "      <td>Burlington, VT</td>\n",
       "      <td>JFK</td>\n",
       "      <td>New York, NY</td>\n",
       "      <td>1907.0</td>\n",
       "      <td>0.0</td>\n",
       "      <td>90.0</td>\n",
       "      <td>266.0</td>\n",
       "      <td>NaN</td>\n",
       "      <td>New York</td>\n",
       "      <td>NY</td>\n",
       "      <td>Burlington</td>\n",
       "      <td>VT</td>\n",
       "    </tr>\n",
       "    <tr>\n",
       "      <th>10</th>\n",
       "      <td>2.0</td>\n",
       "      <td>2.0</td>\n",
       "      <td>2017-02-07</td>\n",
       "      <td>B6</td>\n",
       "      <td>33.0</td>\n",
       "      <td>BTV</td>\n",
       "      <td>Burlington, VT</td>\n",
       "      <td>JFK</td>\n",
       "      <td>New York, NY</td>\n",
       "      <td>1907.0</td>\n",
       "      <td>0.0</td>\n",
       "      <td>90.0</td>\n",
       "      <td>266.0</td>\n",
       "      <td>NaN</td>\n",
       "      <td>New York</td>\n",
       "      <td>NY</td>\n",
       "      <td>Burlington</td>\n",
       "      <td>VT</td>\n",
       "    </tr>\n",
       "    <tr>\n",
       "      <th>16</th>\n",
       "      <td>2.0</td>\n",
       "      <td>1.0</td>\n",
       "      <td>2017-02-13</td>\n",
       "      <td>B6</td>\n",
       "      <td>33.0</td>\n",
       "      <td>BTV</td>\n",
       "      <td>Burlington, VT</td>\n",
       "      <td>JFK</td>\n",
       "      <td>New York, NY</td>\n",
       "      <td>1907.0</td>\n",
       "      <td>1.0</td>\n",
       "      <td>90.0</td>\n",
       "      <td>266.0</td>\n",
       "      <td>NaN</td>\n",
       "      <td>New York</td>\n",
       "      <td>NY</td>\n",
       "      <td>Burlington</td>\n",
       "      <td>VT</td>\n",
       "    </tr>\n",
       "    <tr>\n",
       "      <th>23</th>\n",
       "      <td>2.0</td>\n",
       "      <td>1.0</td>\n",
       "      <td>2017-02-20</td>\n",
       "      <td>B6</td>\n",
       "      <td>33.0</td>\n",
       "      <td>DCA</td>\n",
       "      <td>Washington, DC</td>\n",
       "      <td>PBI</td>\n",
       "      <td>West Palm Beach/Palm Beach, FL</td>\n",
       "      <td>1730.0</td>\n",
       "      <td>0.0</td>\n",
       "      <td>157.0</td>\n",
       "      <td>857.0</td>\n",
       "      <td>NaN</td>\n",
       "      <td>West Palm Beach</td>\n",
       "      <td>FL</td>\n",
       "      <td>Washington</td>\n",
       "      <td>DC</td>\n",
       "    </tr>\n",
       "  </tbody>\n",
       "</table>\n",
       "</div>"
      ],
      "text/plain": [
       "    MONTH  DAY_OF_WEEK     FL_DATE UNIQUE_CARRIER  FL_NUM ORIGIN  \\\n",
       "6     2.0          5.0  2017-02-03             B6    33.0    BTV   \n",
       "8     2.0          7.0  2017-02-05             B6    33.0    BTV   \n",
       "10    2.0          2.0  2017-02-07             B6    33.0    BTV   \n",
       "16    2.0          1.0  2017-02-13             B6    33.0    BTV   \n",
       "23    2.0          1.0  2017-02-20             B6    33.0    DCA   \n",
       "\n",
       "   ORIGIN_CITY_NAME DEST                  DEST_CITY_NAME  CRS_DEP_TIME  \\\n",
       "6    Burlington, VT  JFK                    New York, NY        1907.0   \n",
       "8    Burlington, VT  JFK                    New York, NY        1907.0   \n",
       "10   Burlington, VT  JFK                    New York, NY        1907.0   \n",
       "16   Burlington, VT  JFK                    New York, NY        1907.0   \n",
       "23   Washington, DC  PBI  West Palm Beach/Palm Beach, FL        1730.0   \n",
       "\n",
       "    ARR_DEL15  CRS_ELAPSED_TIME  DISTANCE  Unnamed: 13        DEST_CITY  \\\n",
       "6         0.0              90.0     266.0          NaN         New York   \n",
       "8         0.0              90.0     266.0          NaN         New York   \n",
       "10        0.0              90.0     266.0          NaN         New York   \n",
       "16        1.0              90.0     266.0          NaN         New York   \n",
       "23        0.0             157.0     857.0          NaN  West Palm Beach   \n",
       "\n",
       "   DEST_STATE   ORIG_CITY ORIG_STATE  \n",
       "6          NY  Burlington         VT  \n",
       "8          NY  Burlington         VT  \n",
       "10         NY  Burlington         VT  \n",
       "16         NY  Burlington         VT  \n",
       "23         FL  Washington         DC  "
      ]
     },
     "execution_count": 107,
     "metadata": {},
     "output_type": "execute_result"
    }
   ],
   "source": [
    "subdata.head()"
   ]
  },
  {
   "cell_type": "code",
   "execution_count": 108,
   "metadata": {
    "collapsed": true
   },
   "outputs": [],
   "source": [
    "#delete the Unnamed: 13 columns which doesn't carry information and we don't need \n",
    "subdata = subdata.drop(\"Unnamed: 13\", axis = 1)"
   ]
  },
  {
   "cell_type": "code",
   "execution_count": 109,
   "metadata": {},
   "outputs": [
    {
     "data": {
      "text/plain": [
       "ARR_DEL15           0.013802\n",
       "CRS_DEP_TIME        0.000000\n",
       "CRS_ELAPSED_TIME    0.000003\n",
       "DAY_OF_WEEK         0.000000\n",
       "DEST                0.000000\n",
       "DEST_CITY           0.000000\n",
       "DEST_CITY_NAME      0.000000\n",
       "DEST_STATE          0.000000\n",
       "DISTANCE            0.000000\n",
       "FL_DATE             0.000000\n",
       "FL_NUM              0.000000\n",
       "MONTH               0.000000\n",
       "ORIGIN              0.000000\n",
       "ORIGIN_CITY_NAME    0.000000\n",
       "ORIG_CITY           0.000000\n",
       "ORIG_STATE          0.000000\n",
       "UNIQUE_CARRIER      0.000000\n",
       "dtype: float64"
      ]
     },
     "metadata": {},
     "output_type": "display_data"
    }
   ],
   "source": [
    "# check missing values percentage\n",
    "def display_all(df):\n",
    "    with pd.option_context(\"display.max_rows\", 1000): \n",
    "        with pd.option_context(\"display.max_columns\", 1000): \n",
    "            display(df) \n",
    "display_all(subdata.isnull().sum().sort_index()/len(subdata))"
   ]
  },
  {
   "cell_type": "markdown",
   "metadata": {},
   "source": [
    "Overall, the data is clean and complete. But I noticed that APP_DEL14 column has 1.3% of the data is NA. because this is our reponse variable, and we can not impute any value to that, this portion of data should be deleted. "
   ]
  },
  {
   "cell_type": "code",
   "execution_count": 110,
   "metadata": {
    "collapsed": true
   },
   "outputs": [],
   "source": [
    "subdata = subdata.dropna(axis=0, how='any')"
   ]
  },
  {
   "cell_type": "code",
   "execution_count": 111,
   "metadata": {
    "scrolled": true
   },
   "outputs": [
    {
     "data": {
      "text/plain": [
       "ARR_DEL15           0.0\n",
       "CRS_DEP_TIME        0.0\n",
       "CRS_ELAPSED_TIME    0.0\n",
       "DAY_OF_WEEK         0.0\n",
       "DEST                0.0\n",
       "DEST_CITY           0.0\n",
       "DEST_CITY_NAME      0.0\n",
       "DEST_STATE          0.0\n",
       "DISTANCE            0.0\n",
       "FL_DATE             0.0\n",
       "FL_NUM              0.0\n",
       "MONTH               0.0\n",
       "ORIGIN              0.0\n",
       "ORIGIN_CITY_NAME    0.0\n",
       "ORIG_CITY           0.0\n",
       "ORIG_STATE          0.0\n",
       "UNIQUE_CARRIER      0.0\n",
       "dtype: float64"
      ]
     },
     "metadata": {},
     "output_type": "display_data"
    }
   ],
   "source": [
    "display_all(subdata.isnull().sum().sort_index()/len(subdata))"
   ]
  },
  {
   "cell_type": "markdown",
   "metadata": {},
   "source": [
    "Now we are pretty sure all data has an entry and ready to generate new features"
   ]
  },
  {
   "cell_type": "markdown",
   "metadata": {},
   "source": [
    "## 2. Generate new features \n",
    "\n",
    "The idea about generating new features is to supplement the information that models can not derived from the given data. New features can come from externally: mega data or internally: from the columns given. Here I would like to generate following features:\n",
    "\n",
    "**External**\n",
    "- holiday and holiday week: booleen, indicate whether that date or week is holiday or not (it's reasonable to assume that during holidays, there're more flights to accomondate traveler's demand) \n",
    "- weather\n",
    "\n",
    "**Internal**\n",
    "- day of month: to capture monthly seasonality \n",
    "- population of the city: indirectly indicate the size of the airport"
   ]
  },
  {
   "cell_type": "markdown",
   "metadata": {},
   "source": [
    "### Generate holiday"
   ]
  },
  {
   "cell_type": "code",
   "execution_count": 112,
   "metadata": {
    "collapsed": true
   },
   "outputs": [],
   "source": [
    "subdata['FL_DATE'] = pd.to_datetime(subdata['FL_DATE'])"
   ]
  },
  {
   "cell_type": "code",
   "execution_count": 113,
   "metadata": {
    "collapsed": true
   },
   "outputs": [],
   "source": [
    "us_holidays = holidays.UnitedStates()\n",
    "def holiday(date):\n",
    "    if date in us_holidays:\n",
    "        return 1\n",
    "    else:\n",
    "        return 0\n",
    "subdata[\"holidays\"] = [holiday(x) for x in list(subdata[\"FL_DATE\"])]"
   ]
  },
  {
   "cell_type": "markdown",
   "metadata": {},
   "source": [
    "### Generate day of month"
   ]
  },
  {
   "cell_type": "code",
   "execution_count": 114,
   "metadata": {
    "collapsed": true
   },
   "outputs": [],
   "source": [
    "subdata[\"DAY_OF_MONTH\"] = subdata.FL_DATE.apply(lambda x: x.day)"
   ]
  },
  {
   "cell_type": "markdown",
   "metadata": {},
   "source": [
    "### Generate departure and arrival city's population "
   ]
  },
  {
   "cell_type": "code",
   "execution_count": 115,
   "metadata": {
    "collapsed": true
   },
   "outputs": [],
   "source": [
    "city_dep = subdata.ORIGIN_CITY_NAME.unique()"
   ]
  },
  {
   "cell_type": "code",
   "execution_count": 116,
   "metadata": {
    "collapsed": true
   },
   "outputs": [],
   "source": [
    "city_dep = set(city_dep)"
   ]
  },
  {
   "cell_type": "code",
   "execution_count": 117,
   "metadata": {
    "collapsed": true
   },
   "outputs": [],
   "source": [
    "city_arr = subdata.DEST_CITY_NAME.unique()"
   ]
  },
  {
   "cell_type": "code",
   "execution_count": 118,
   "metadata": {
    "collapsed": true
   },
   "outputs": [],
   "source": [
    "city_arr = set(city_arr)"
   ]
  },
  {
   "cell_type": "code",
   "execution_count": 119,
   "metadata": {
    "collapsed": true
   },
   "outputs": [],
   "source": [
    "total_city = list(city_dep | city_arr)"
   ]
  },
  {
   "cell_type": "code",
   "execution_count": 120,
   "metadata": {},
   "outputs": [
    {
     "data": {
      "text/plain": [
       "307"
      ]
     },
     "execution_count": 120,
     "metadata": {},
     "output_type": "execute_result"
    }
   ],
   "source": [
    "len(total_city)"
   ]
  },
  {
   "cell_type": "code",
   "execution_count": 121,
   "metadata": {
    "collapsed": true
   },
   "outputs": [],
   "source": [
    "#seperate city from city, state format\n",
    "city = [x.split(\",\")[0] for x in total_city]\n",
    "state = [x.split(\",\")[1] for x in total_city]"
   ]
  },
  {
   "cell_type": "code",
   "execution_count": 122,
   "metadata": {},
   "outputs": [
    {
     "data": {
      "text/plain": [
       "307"
      ]
     },
     "execution_count": 122,
     "metadata": {},
     "output_type": "execute_result"
    }
   ],
   "source": [
    "len(state)"
   ]
  },
  {
   "cell_type": "code",
   "execution_count": 123,
   "metadata": {
    "collapsed": true
   },
   "outputs": [],
   "source": [
    "#seperate the first city as the proxy city if it's a city bundle like city1/city2\n",
    "city = [x.split(\"/\")[0] for x in city]"
   ]
  },
  {
   "cell_type": "code",
   "execution_count": 124,
   "metadata": {
    "collapsed": true
   },
   "outputs": [],
   "source": [
    "total_city = pd.DataFrame({\"city\": city, \"state_id\": state})"
   ]
  },
  {
   "cell_type": "code",
   "execution_count": 125,
   "metadata": {
    "collapsed": true
   },
   "outputs": [],
   "source": [
    "total_city[\"city\"] = total_city[\"city\"].astype(str)\n",
    "total_city[\"state_id\"] = total_city[\"state_id\"].astype(str)"
   ]
  },
  {
   "cell_type": "code",
   "execution_count": 126,
   "metadata": {},
   "outputs": [
    {
     "data": {
      "text/html": [
       "<div>\n",
       "<style scoped>\n",
       "    .dataframe tbody tr th:only-of-type {\n",
       "        vertical-align: middle;\n",
       "    }\n",
       "\n",
       "    .dataframe tbody tr th {\n",
       "        vertical-align: top;\n",
       "    }\n",
       "\n",
       "    .dataframe thead th {\n",
       "        text-align: right;\n",
       "    }\n",
       "</style>\n",
       "<table border=\"1\" class=\"dataframe\">\n",
       "  <thead>\n",
       "    <tr style=\"text-align: right;\">\n",
       "      <th></th>\n",
       "      <th>city</th>\n",
       "      <th>state_id</th>\n",
       "    </tr>\n",
       "  </thead>\n",
       "  <tbody>\n",
       "    <tr>\n",
       "      <th>0</th>\n",
       "      <td>Melbourne</td>\n",
       "      <td>FL</td>\n",
       "    </tr>\n",
       "    <tr>\n",
       "      <th>1</th>\n",
       "      <td>Charleston</td>\n",
       "      <td>SC</td>\n",
       "    </tr>\n",
       "    <tr>\n",
       "      <th>2</th>\n",
       "      <td>Cordova</td>\n",
       "      <td>AK</td>\n",
       "    </tr>\n",
       "    <tr>\n",
       "      <th>3</th>\n",
       "      <td>Yakutat</td>\n",
       "      <td>AK</td>\n",
       "    </tr>\n",
       "    <tr>\n",
       "      <th>4</th>\n",
       "      <td>Tallahassee</td>\n",
       "      <td>FL</td>\n",
       "    </tr>\n",
       "  </tbody>\n",
       "</table>\n",
       "</div>"
      ],
      "text/plain": [
       "          city state_id\n",
       "0    Melbourne       FL\n",
       "1   Charleston       SC\n",
       "2      Cordova       AK\n",
       "3      Yakutat       AK\n",
       "4  Tallahassee       FL"
      ]
     },
     "execution_count": 126,
     "metadata": {},
     "output_type": "execute_result"
    }
   ],
   "source": [
    "total_city.head(5)"
   ]
  },
  {
   "cell_type": "code",
   "execution_count": 127,
   "metadata": {
    "collapsed": true
   },
   "outputs": [],
   "source": [
    "gov_city = pd.read_csv(\"uscitiesv1.3.csv\")"
   ]
  },
  {
   "cell_type": "code",
   "execution_count": 128,
   "metadata": {
    "collapsed": true
   },
   "outputs": [],
   "source": [
    "gov_city[\"city\"] = gov_city.city.astype(str)\n",
    "gov_city[\"state_id\"] = gov_city.state_id.astype(str)\n"
   ]
  },
  {
   "cell_type": "markdown",
   "metadata": {},
   "source": [
    "city population data from the goverment:https://simplemaps.com/data/us-cities"
   ]
  },
  {
   "cell_type": "code",
   "execution_count": 129,
   "metadata": {},
   "outputs": [
    {
     "data": {
      "text/html": [
       "<div>\n",
       "<style scoped>\n",
       "    .dataframe tbody tr th:only-of-type {\n",
       "        vertical-align: middle;\n",
       "    }\n",
       "\n",
       "    .dataframe tbody tr th {\n",
       "        vertical-align: top;\n",
       "    }\n",
       "\n",
       "    .dataframe thead th {\n",
       "        text-align: right;\n",
       "    }\n",
       "</style>\n",
       "<table border=\"1\" class=\"dataframe\">\n",
       "  <thead>\n",
       "    <tr style=\"text-align: right;\">\n",
       "      <th></th>\n",
       "      <th>city</th>\n",
       "      <th>city_ascii</th>\n",
       "      <th>state_id</th>\n",
       "      <th>state_name</th>\n",
       "      <th>county_name</th>\n",
       "      <th>county_fips</th>\n",
       "      <th>zip</th>\n",
       "      <th>lat</th>\n",
       "      <th>lng</th>\n",
       "      <th>population</th>\n",
       "      <th>source</th>\n",
       "      <th>id</th>\n",
       "    </tr>\n",
       "  </thead>\n",
       "  <tbody>\n",
       "    <tr>\n",
       "      <th>0</th>\n",
       "      <td>Dunseith</td>\n",
       "      <td>Dunseith</td>\n",
       "      <td>ND</td>\n",
       "      <td>North Dakota</td>\n",
       "      <td>Rolette</td>\n",
       "      <td>38079</td>\n",
       "      <td>58329</td>\n",
       "      <td>48.813057</td>\n",
       "      <td>-100.060968</td>\n",
       "      <td>773.0</td>\n",
       "      <td>polygon</td>\n",
       "      <td>1840000000</td>\n",
       "    </tr>\n",
       "    <tr>\n",
       "      <th>1</th>\n",
       "      <td>Mylo</td>\n",
       "      <td>Mylo</td>\n",
       "      <td>ND</td>\n",
       "      <td>North Dakota</td>\n",
       "      <td>Rolette</td>\n",
       "      <td>38079</td>\n",
       "      <td>58353</td>\n",
       "      <td>48.635278</td>\n",
       "      <td>-99.618756</td>\n",
       "      <td>20.0</td>\n",
       "      <td>polygon</td>\n",
       "      <td>1840000001</td>\n",
       "    </tr>\n",
       "    <tr>\n",
       "      <th>2</th>\n",
       "      <td>Antler</td>\n",
       "      <td>Antler</td>\n",
       "      <td>ND</td>\n",
       "      <td>North Dakota</td>\n",
       "      <td>Bottineau</td>\n",
       "      <td>38009</td>\n",
       "      <td>58711</td>\n",
       "      <td>48.970853</td>\n",
       "      <td>-101.282380</td>\n",
       "      <td>27.0</td>\n",
       "      <td>polygon</td>\n",
       "      <td>1840000002</td>\n",
       "    </tr>\n",
       "    <tr>\n",
       "      <th>3</th>\n",
       "      <td>Bottineau</td>\n",
       "      <td>Bottineau</td>\n",
       "      <td>ND</td>\n",
       "      <td>North Dakota</td>\n",
       "      <td>Bottineau</td>\n",
       "      <td>38009</td>\n",
       "      <td>58318</td>\n",
       "      <td>48.827230</td>\n",
       "      <td>-100.445698</td>\n",
       "      <td>2211.0</td>\n",
       "      <td>polygon</td>\n",
       "      <td>1840000003</td>\n",
       "    </tr>\n",
       "    <tr>\n",
       "      <th>4</th>\n",
       "      <td>Gardena</td>\n",
       "      <td>Gardena</td>\n",
       "      <td>ND</td>\n",
       "      <td>North Dakota</td>\n",
       "      <td>Bottineau</td>\n",
       "      <td>38009</td>\n",
       "      <td>58318 58748</td>\n",
       "      <td>48.700837</td>\n",
       "      <td>-100.497639</td>\n",
       "      <td>29.0</td>\n",
       "      <td>polygon</td>\n",
       "      <td>1840000004</td>\n",
       "    </tr>\n",
       "  </tbody>\n",
       "</table>\n",
       "</div>"
      ],
      "text/plain": [
       "        city city_ascii state_id    state_name county_name  county_fips  \\\n",
       "0   Dunseith   Dunseith       ND  North Dakota     Rolette        38079   \n",
       "1       Mylo       Mylo       ND  North Dakota     Rolette        38079   \n",
       "2     Antler     Antler       ND  North Dakota   Bottineau        38009   \n",
       "3  Bottineau  Bottineau       ND  North Dakota   Bottineau        38009   \n",
       "4    Gardena    Gardena       ND  North Dakota   Bottineau        38009   \n",
       "\n",
       "           zip        lat         lng  population   source          id  \n",
       "0        58329  48.813057 -100.060968       773.0  polygon  1840000000  \n",
       "1        58353  48.635278  -99.618756        20.0  polygon  1840000001  \n",
       "2        58711  48.970853 -101.282380        27.0  polygon  1840000002  \n",
       "3        58318  48.827230 -100.445698      2211.0  polygon  1840000003  \n",
       "4  58318 58748  48.700837 -100.497639        29.0  polygon  1840000004  "
      ]
     },
     "execution_count": 129,
     "metadata": {},
     "output_type": "execute_result"
    }
   ],
   "source": [
    "gov_city.head(5)"
   ]
  },
  {
   "cell_type": "code",
   "execution_count": 130,
   "metadata": {},
   "outputs": [
    {
     "data": {
      "text/plain": [
       "(38147, 307)"
      ]
     },
     "execution_count": 130,
     "metadata": {},
     "output_type": "execute_result"
    }
   ],
   "source": [
    "len(gov_city),len(total_city)"
   ]
  },
  {
   "cell_type": "code",
   "execution_count": 133,
   "metadata": {
    "collapsed": true
   },
   "outputs": [],
   "source": [
    "city_pop = pd.merge(total_city,gov_city, how = \"left\", on = [\"city\"])"
   ]
  },
  {
   "cell_type": "code",
   "execution_count": 135,
   "metadata": {},
   "outputs": [
    {
     "data": {
      "text/html": [
       "<div>\n",
       "<style scoped>\n",
       "    .dataframe tbody tr th:only-of-type {\n",
       "        vertical-align: middle;\n",
       "    }\n",
       "\n",
       "    .dataframe tbody tr th {\n",
       "        vertical-align: top;\n",
       "    }\n",
       "\n",
       "    .dataframe thead th {\n",
       "        text-align: right;\n",
       "    }\n",
       "</style>\n",
       "<table border=\"1\" class=\"dataframe\">\n",
       "  <thead>\n",
       "    <tr style=\"text-align: right;\">\n",
       "      <th></th>\n",
       "      <th>city</th>\n",
       "      <th>state_id_x</th>\n",
       "      <th>city_ascii</th>\n",
       "      <th>state_id_y</th>\n",
       "      <th>state_name</th>\n",
       "      <th>county_name</th>\n",
       "      <th>county_fips</th>\n",
       "      <th>zip</th>\n",
       "      <th>lat</th>\n",
       "      <th>lng</th>\n",
       "      <th>population</th>\n",
       "      <th>source</th>\n",
       "      <th>id</th>\n",
       "    </tr>\n",
       "  </thead>\n",
       "  <tbody>\n",
       "    <tr>\n",
       "      <th>0</th>\n",
       "      <td>Melbourne</td>\n",
       "      <td>FL</td>\n",
       "      <td>Melbourne</td>\n",
       "      <td>IA</td>\n",
       "      <td>Iowa</td>\n",
       "      <td>Marshall</td>\n",
       "      <td>19127.0</td>\n",
       "      <td>50162</td>\n",
       "      <td>41.941377</td>\n",
       "      <td>-93.103257</td>\n",
       "      <td>830.0</td>\n",
       "      <td>polygon</td>\n",
       "      <td>1.840008e+09</td>\n",
       "    </tr>\n",
       "    <tr>\n",
       "      <th>1</th>\n",
       "      <td>Melbourne</td>\n",
       "      <td>FL</td>\n",
       "      <td>Melbourne</td>\n",
       "      <td>KY</td>\n",
       "      <td>Kentucky</td>\n",
       "      <td>Campbell</td>\n",
       "      <td>21037.0</td>\n",
       "      <td>41059</td>\n",
       "      <td>39.029784</td>\n",
       "      <td>-84.366328</td>\n",
       "      <td>401.0</td>\n",
       "      <td>polygon</td>\n",
       "      <td>1.840015e+09</td>\n",
       "    </tr>\n",
       "    <tr>\n",
       "      <th>2</th>\n",
       "      <td>Melbourne</td>\n",
       "      <td>FL</td>\n",
       "      <td>Melbourne</td>\n",
       "      <td>AR</td>\n",
       "      <td>Arkansas</td>\n",
       "      <td>Izard</td>\n",
       "      <td>5065.0</td>\n",
       "      <td>72556</td>\n",
       "      <td>36.059515</td>\n",
       "      <td>-91.908482</td>\n",
       "      <td>1848.0</td>\n",
       "      <td>polygon</td>\n",
       "      <td>1.840015e+09</td>\n",
       "    </tr>\n",
       "    <tr>\n",
       "      <th>3</th>\n",
       "      <td>Melbourne</td>\n",
       "      <td>FL</td>\n",
       "      <td>Melbourne</td>\n",
       "      <td>FL</td>\n",
       "      <td>Florida</td>\n",
       "      <td>Brevard</td>\n",
       "      <td>12009.0</td>\n",
       "      <td>32901 32903 32934 32935 32902 32912 32919 3293...</td>\n",
       "      <td>28.083627</td>\n",
       "      <td>-80.608109</td>\n",
       "      <td>76068.0</td>\n",
       "      <td>polygon</td>\n",
       "      <td>1.840016e+09</td>\n",
       "    </tr>\n",
       "    <tr>\n",
       "      <th>4</th>\n",
       "      <td>Melbourne</td>\n",
       "      <td>FL</td>\n",
       "      <td>Melbourne</td>\n",
       "      <td>WA</td>\n",
       "      <td>Washington</td>\n",
       "      <td>Grays Harbor</td>\n",
       "      <td>53027.0</td>\n",
       "      <td>98563</td>\n",
       "      <td>46.945373</td>\n",
       "      <td>-123.625996</td>\n",
       "      <td>NaN</td>\n",
       "      <td>point</td>\n",
       "      <td>1.840035e+09</td>\n",
       "    </tr>\n",
       "  </tbody>\n",
       "</table>\n",
       "</div>"
      ],
      "text/plain": [
       "        city state_id_x city_ascii state_id_y  state_name   county_name  \\\n",
       "0  Melbourne         FL  Melbourne         IA        Iowa      Marshall   \n",
       "1  Melbourne         FL  Melbourne         KY    Kentucky      Campbell   \n",
       "2  Melbourne         FL  Melbourne         AR    Arkansas         Izard   \n",
       "3  Melbourne         FL  Melbourne         FL     Florida       Brevard   \n",
       "4  Melbourne         FL  Melbourne         WA  Washington  Grays Harbor   \n",
       "\n",
       "   county_fips                                                zip        lat  \\\n",
       "0      19127.0                                              50162  41.941377   \n",
       "1      21037.0                                              41059  39.029784   \n",
       "2       5065.0                                              72556  36.059515   \n",
       "3      12009.0  32901 32903 32934 32935 32902 32912 32919 3293...  28.083627   \n",
       "4      53027.0                                              98563  46.945373   \n",
       "\n",
       "          lng  population   source            id  \n",
       "0  -93.103257       830.0  polygon  1.840008e+09  \n",
       "1  -84.366328       401.0  polygon  1.840015e+09  \n",
       "2  -91.908482      1848.0  polygon  1.840015e+09  \n",
       "3  -80.608109     76068.0  polygon  1.840016e+09  \n",
       "4 -123.625996         NaN    point  1.840035e+09  "
      ]
     },
     "execution_count": 135,
     "metadata": {},
     "output_type": "execute_result"
    }
   ],
   "source": [
    "city_pop.head()"
   ]
  },
  {
   "cell_type": "code",
   "execution_count": 136,
   "metadata": {
    "collapsed": true
   },
   "outputs": [],
   "source": [
    "city_pop = city_pop[[\"city\", \"state_id_x\", \"population\"]]"
   ]
  },
  {
   "cell_type": "code",
   "execution_count": 137,
   "metadata": {
    "collapsed": true
   },
   "outputs": [],
   "source": [
    "def extract_city(city):\n",
    "    l = city.split(\",\")\n",
    "    return l[0].split(\"/\")[0]\n",
    "def extract_state(city):\n",
    "    return city.split(\",\")[1]"
   ]
  },
  {
   "cell_type": "code",
   "execution_count": 138,
   "metadata": {
    "collapsed": true
   },
   "outputs": [],
   "source": [
    "subdata[\"DEST_CITY\"] = subdata[\"DEST_CITY_NAME\"].apply(lambda x: extract_city(x))"
   ]
  },
  {
   "cell_type": "code",
   "execution_count": 139,
   "metadata": {
    "collapsed": true
   },
   "outputs": [],
   "source": [
    "subdata[\"DEST_STATE\"] = subdata[\"DEST_CITY_NAME\"].apply(lambda x: extract_state(x))"
   ]
  },
  {
   "cell_type": "code",
   "execution_count": 140,
   "metadata": {
    "collapsed": true
   },
   "outputs": [],
   "source": [
    "subdata[\"ORIG_CITY\"] = subdata[\"ORIGIN_CITY_NAME\"].apply(lambda x: extract_city(x))"
   ]
  },
  {
   "cell_type": "code",
   "execution_count": 141,
   "metadata": {
    "collapsed": true
   },
   "outputs": [],
   "source": [
    "subdata[\"ORIG_STATE\"] = subdata[\"ORIGIN_CITY_NAME\"].apply(lambda x: extract_state(x))"
   ]
  },
  {
   "cell_type": "code",
   "execution_count": 142,
   "metadata": {},
   "outputs": [
    {
     "data": {
      "text/plain": [
       "1010776"
      ]
     },
     "execution_count": 142,
     "metadata": {},
     "output_type": "execute_result"
    }
   ],
   "source": [
    "len(subdata)"
   ]
  },
  {
   "cell_type": "code",
   "execution_count": 168,
   "metadata": {
    "collapsed": true
   },
   "outputs": [],
   "source": [
    "#join to find the destination city's population\n",
    "join1 = pd.merge(subdata, city_pop, how = \"inner\", left_on = [\"DEST_CITY\", \"DEST_STATE\"], right_on = [\"city\", \"state_id_x\"])"
   ]
  },
  {
   "cell_type": "code",
   "execution_count": 169,
   "metadata": {},
   "outputs": [
    {
     "data": {
      "text/plain": [
       "6380231"
      ]
     },
     "execution_count": 169,
     "metadata": {},
     "output_type": "execute_result"
    }
   ],
   "source": [
    "len(join1)"
   ]
  },
  {
   "cell_type": "code",
   "execution_count": 170,
   "metadata": {
    "collapsed": true
   },
   "outputs": [],
   "source": [
    "join1 = join1.dropna(axis=0, how='any')"
   ]
  },
  {
   "cell_type": "code",
   "execution_count": 171,
   "metadata": {
    "collapsed": true
   },
   "outputs": [],
   "source": [
    "join1.drop([\"city\", \"state_id_x\"], axis = 1, inplace = True)\n",
    "join1.rename({\"population\": \"DEST_POP\"}, inplace = True)"
   ]
  },
  {
   "cell_type": "code",
   "execution_count": 172,
   "metadata": {},
   "outputs": [
    {
     "data": {
      "text/plain": [
       "5098821"
      ]
     },
     "execution_count": 172,
     "metadata": {},
     "output_type": "execute_result"
    }
   ],
   "source": [
    "len(join1)"
   ]
  },
  {
   "cell_type": "code",
   "execution_count": 39,
   "metadata": {
    "collapsed": true
   },
   "outputs": [],
   "source": [
    "# join to find the origin city's population\n",
    "#data = pd.merge(data, city_pop, how = \"left\", left_on = [\"ORIG_CITY\", \"ORIG_STATE\"], right_on = [\"city\", \"state_id_x\"])"
   ]
  },
  {
   "cell_type": "code",
   "execution_count": 40,
   "metadata": {
    "collapsed": true
   },
   "outputs": [],
   "source": [
    "#data.drop([\"city\", \"state_id_x\"], axis = 1, inplace = True)\n",
    "#data.rename({\"population\": \"ORIG_POP\"}, inplace = True)"
   ]
  },
  {
   "cell_type": "code",
   "execution_count": 173,
   "metadata": {},
   "outputs": [
    {
     "data": {
      "text/plain": [
       "ARR_DEL15           0.0\n",
       "CRS_DEP_TIME        0.0\n",
       "CRS_ELAPSED_TIME    0.0\n",
       "DAY_OF_MONTH        0.0\n",
       "DAY_OF_WEEK         0.0\n",
       "DEST                0.0\n",
       "DEST_CITY           0.0\n",
       "DEST_CITY_NAME      0.0\n",
       "DEST_STATE          0.0\n",
       "DISTANCE            0.0\n",
       "FL_DATE             0.0\n",
       "FL_NUM              0.0\n",
       "MONTH               0.0\n",
       "ORIGIN              0.0\n",
       "ORIGIN_CITY_NAME    0.0\n",
       "ORIG_CITY           0.0\n",
       "ORIG_STATE          0.0\n",
       "UNIQUE_CARRIER      0.0\n",
       "holidays            0.0\n",
       "population          0.0\n",
       "dtype: float64"
      ]
     },
     "metadata": {},
     "output_type": "display_data"
    }
   ],
   "source": [
    "join1.replace([np.inf, -np.inf], np.nan)\n",
    "display_all(join1.isnull().sum().sort_index()/float(len(join1)))\n",
    "#apparently after joining with population and drop infinity, there're some nas in this columns we need to deal with. Here I decided\n",
    "# to impute the city population with the state's city average"
   ]
  },
  {
   "cell_type": "code",
   "execution_count": 174,
   "metadata": {},
   "outputs": [
    {
     "data": {
      "text/plain": [
       "Index(['MONTH', 'DAY_OF_WEEK', 'FL_DATE', 'UNIQUE_CARRIER', 'FL_NUM', 'ORIGIN',\n",
       "       'ORIGIN_CITY_NAME', 'DEST', 'DEST_CITY_NAME', 'CRS_DEP_TIME',\n",
       "       'ARR_DEL15', 'CRS_ELAPSED_TIME', 'DISTANCE', 'DEST_CITY', 'DEST_STATE',\n",
       "       'ORIG_CITY', 'ORIG_STATE', 'holidays', 'DAY_OF_MONTH', 'population'],\n",
       "      dtype='object')"
      ]
     },
     "execution_count": 174,
     "metadata": {},
     "output_type": "execute_result"
    }
   ],
   "source": [
    "join1.columns"
   ]
  },
  {
   "cell_type": "code",
   "execution_count": 69,
   "metadata": {
    "collapsed": true
   },
   "outputs": [],
   "source": [
    "#data[\"population\"] = data.groupby(\"ORIG_STATE_mean_enc\").transform(lambda x: x.fillna(x.mean()))"
   ]
  },
  {
   "cell_type": "code",
   "execution_count": 70,
   "metadata": {},
   "outputs": [
    {
     "data": {
      "text/plain": [
       "Index(['FL_DATE', 'ORIGIN_CITY_NAME', 'CRS_DEP_TIME', 'ARR_DEL15',\n",
       "       'CRS_ELAPSED_TIME', 'DISTANCE', 'holidays', 'population',\n",
       "       'MONTH_mean_enc', 'DAY_OF_WEEK_mean_enc', 'UNIQUE_CARRIER_mean_enc',\n",
       "       'FL_NUM_mean_enc', 'ORIGIN_mean_enc', 'DEST_mean_enc',\n",
       "       'DEST_CITY_NAME_mean_enc', 'DAY_OF_MONTH_mean_enc',\n",
       "       'DEST_CITY_mean_enc', 'DEST_STATE_mean_enc', 'ORIG_CITY_mean_enc',\n",
       "       'ORIG_STATE_mean_enc'],\n",
       "      dtype='object')"
      ]
     },
     "execution_count": 70,
     "metadata": {},
     "output_type": "execute_result"
    }
   ],
   "source": [
    "data = data.dropna(axis=0, how='any')"
   ]
  },
  {
   "cell_type": "markdown",
   "metadata": {},
   "source": [
    "## 3. Regularized mean encode the Categorical variables\n",
    "\n",
    "the point of mean encoding is to derive better meaning from the feature relative to response"
   ]
  },
  {
   "cell_type": "code",
   "execution_count": 175,
   "metadata": {
    "collapsed": true
   },
   "outputs": [],
   "source": [
    "from sklearn.model_selection import KFold\n",
    "\n",
    "def reg_target_encoding(train, col, response, splits=5):\n",
    "    \"\"\" Computes regularize mean encoding.\n",
    "    Inputs:\n",
    "       train: training dataframe  \n",
    "    \"\"\"\n",
    "    y_tr = train[response].values\n",
    "    kf = KFold(splits, random_state=None)\n",
    "    for train_index, test_index in kf.split(y_tr):\n",
    "        X_trn, X_val = train.loc[train_index], train.loc[test_index]\n",
    "        mean = X_val[col].map(X_trn.groupby(col)[response].mean())\n",
    "        train.loc[test_index,col+\"_mean_enc\"] = mean\n",
    "    global_mean = train[response].mean()\n",
    "    train[col+\"_mean_enc\"].fillna(global_mean, inplace=True)\n",
    "    train.drop(col, axis = 1, inplace = True)"
   ]
  },
  {
   "cell_type": "code",
   "execution_count": 176,
   "metadata": {
    "collapsed": true
   },
   "outputs": [],
   "source": [
    "cat_col = ['MONTH', 'DAY_OF_WEEK', 'UNIQUE_CARRIER', 'FL_NUM', 'ORIGIN',\n",
    "       'DEST', 'DEST_CITY_NAME', 'DAY_OF_MONTH',\n",
    "       'DEST_CITY', 'DEST_STATE', 'ORIG_CITY', 'ORIG_STATE']"
   ]
  },
  {
   "cell_type": "code",
   "execution_count": 228,
   "metadata": {
    "collapsed": true
   },
   "outputs": [],
   "source": [
    "np.random.seed(3)\n",
    "msk = np.random.rand(len(join1)) < 0.6\n",
    "minidata = join1[msk].copy()"
   ]
  },
  {
   "cell_type": "code",
   "execution_count": 229,
   "metadata": {
    "collapsed": true
   },
   "outputs": [],
   "source": [
    "minidata = minidata.reset_index()\n",
    "for c in cat_col:\n",
    "    reg_target_encoding(minidata,c, \"ARR_DEL15\")"
   ]
  },
  {
   "cell_type": "code",
   "execution_count": 230,
   "metadata": {
    "collapsed": true
   },
   "outputs": [],
   "source": [
    "minidata.drop(\"index\", axis = 1, inplace = True)"
   ]
  },
  {
   "cell_type": "code",
   "execution_count": 231,
   "metadata": {},
   "outputs": [
    {
     "data": {
      "text/plain": [
       "3057392"
      ]
     },
     "execution_count": 231,
     "metadata": {},
     "output_type": "execute_result"
    }
   ],
   "source": [
    "len(minidata)"
   ]
  },
  {
   "cell_type": "markdown",
   "metadata": {},
   "source": [
    "## 4. Split data into train, validation and test set"
   ]
  },
  {
   "cell_type": "code",
   "execution_count": 232,
   "metadata": {},
   "outputs": [
    {
     "name": "stdout",
     "output_type": "stream",
     "text": [
      "(1955177, 20) (489270, 20) (612945, 20)\n"
     ]
    }
   ],
   "source": [
    "# split train and validation\n",
    "np.random.seed(3)\n",
    "msk = np.random.rand(len(minidata)) < 0.8\n",
    "train_val_set = minidata[msk].copy()\n",
    "test_set = minidata[~msk].copy()\n",
    "msk = np.random.rand(len(train_val_set)) < 0.8\n",
    "train_set = train_val_set[msk].copy()\n",
    "val_set = train_val_set[~msk].copy()\n",
    "print(train_set.shape, val_set.shape, test_set.shape)"
   ]
  },
  {
   "cell_type": "markdown",
   "metadata": {},
   "source": [
    "## 5. Train a base model\n",
    "\n",
    "without any grid search. All paramters are by default"
   ]
  },
  {
   "cell_type": "code",
   "execution_count": 233,
   "metadata": {
    "collapsed": true
   },
   "outputs": [],
   "source": [
    "set_rf_samples(50000)"
   ]
  },
  {
   "cell_type": "code",
   "execution_count": 234,
   "metadata": {
    "collapsed": true
   },
   "outputs": [],
   "source": [
    "def print_score(m, trn_x,trn_y,val_x, val_y):\n",
    "    me = [metrics.precision_score(m.predict(trn_x), trn_y),\n",
    "          metrics.precision_score(m.predict(val_x), val_y) ]\n",
    "    if hasattr(m, 'oob_score_'): res.append(m.oob_score_)\n",
    "    print(me)"
   ]
  },
  {
   "cell_type": "code",
   "execution_count": 235,
   "metadata": {},
   "outputs": [
    {
     "data": {
      "text/plain": [
       "Index(['FL_DATE', 'ORIGIN_CITY_NAME', 'CRS_DEP_TIME', 'ARR_DEL15',\n",
       "       'CRS_ELAPSED_TIME', 'DISTANCE', 'holidays', 'population',\n",
       "       'MONTH_mean_enc', 'DAY_OF_WEEK_mean_enc', 'UNIQUE_CARRIER_mean_enc',\n",
       "       'FL_NUM_mean_enc', 'ORIGIN_mean_enc', 'DEST_mean_enc',\n",
       "       'DEST_CITY_NAME_mean_enc', 'DAY_OF_MONTH_mean_enc',\n",
       "       'DEST_CITY_mean_enc', 'DEST_STATE_mean_enc', 'ORIG_CITY_mean_enc',\n",
       "       'ORIG_STATE_mean_enc'],\n",
       "      dtype='object')"
      ]
     },
     "execution_count": 235,
     "metadata": {},
     "output_type": "execute_result"
    }
   ],
   "source": [
    "train_set.columns"
   ]
  },
  {
   "cell_type": "code",
   "execution_count": 236,
   "metadata": {
    "collapsed": true
   },
   "outputs": [],
   "source": [
    "features = ['CRS_DEP_TIME', \n",
    "       'CRS_ELAPSED_TIME', 'DISTANCE', 'holidays', 'population',\n",
    "       'MONTH_mean_enc', 'DAY_OF_WEEK_mean_enc', 'UNIQUE_CARRIER_mean_enc',\n",
    "       'FL_NUM_mean_enc', 'ORIGIN_mean_enc', 'DEST_mean_enc',\n",
    "       'DEST_CITY_NAME_mean_enc', 'DAY_OF_MONTH_mean_enc',\n",
    "       'DEST_CITY_mean_enc', 'DEST_STATE_mean_enc', 'ORIG_CITY_mean_enc',\n",
    "       'ORIG_STATE_mean_enc']"
   ]
  },
  {
   "cell_type": "code",
   "execution_count": 237,
   "metadata": {},
   "outputs": [
    {
     "data": {
      "text/plain": [
       "0.0    2523671\n",
       "1.0     533721\n",
       "Name: ARR_DEL15, dtype: int64"
      ]
     },
     "execution_count": 237,
     "metadata": {},
     "output_type": "execute_result"
    }
   ],
   "source": [
    "# as it's a binary classification problem, let's see whether the data is balanced or not\n",
    "minidata['ARR_DEL15'].value_counts()"
   ]
  },
  {
   "cell_type": "markdown",
   "metadata": {},
   "source": [
    "#### What Metric should I use?\n",
    "\n",
    "Before we fit into any model, an important question to ask is what metrics we want to use to select model/assess the model performance? Different metrics selection reflected the ultimate goal we want to achieve. It is also determined by the balance of the model. From the number above, we can see that the model is not totally balanced, so simply use accuracy is not a good idea. Go back to the question, we try to predict whether a flight will delay (classified as 1) or not. More importantly we care whether we can inform the passengers in advance if their flight will truly be delayed. So false negative is worse than false positive - imagine that you are told your flights will be delayed but it actually didn't, mentally you will feel much better compared to being told your flight will be in time while it got delayed and you didn't change your schedule to an important meeting. Therefore, I choose to use **precision** as my metrics"
   ]
  },
  {
   "cell_type": "code",
   "execution_count": 238,
   "metadata": {},
   "outputs": [
    {
     "name": "stdout",
     "output_type": "stream",
     "text": [
      "CPU times: user 7.3 s, sys: 1.45 s, total: 8.75 s\n",
      "Wall time: 3.66 s\n"
     ]
    },
    {
     "data": {
      "text/plain": [
       "RandomForestClassifier(bootstrap=True, class_weight=None, criterion='gini',\n",
       "            max_depth=None, max_features='auto', max_leaf_nodes=None,\n",
       "            min_impurity_decrease=0.0, min_impurity_split=None,\n",
       "            min_samples_leaf=1, min_samples_split=2,\n",
       "            min_weight_fraction_leaf=0.0, n_estimators=10, n_jobs=-1,\n",
       "            oob_score=False, random_state=None, verbose=0,\n",
       "            warm_start=False)"
      ]
     },
     "execution_count": 238,
     "metadata": {},
     "output_type": "execute_result"
    }
   ],
   "source": [
    "m = RandomForestClassifier(n_jobs=-1)\n",
    "%time m.fit(train_set[features], train_set['ARR_DEL15'])"
   ]
  },
  {
   "cell_type": "code",
   "execution_count": 239,
   "metadata": {},
   "outputs": [
    {
     "name": "stdout",
     "output_type": "stream",
     "text": [
      "[0.092216721026820284, 0.079144522744831788]\n"
     ]
    }
   ],
   "source": [
    "print_score(m,train_set[features], train_set['ARR_DEL15'], val_set[features], val_set['ARR_DEL15'] )"
   ]
  },
  {
   "cell_type": "markdown",
   "metadata": {},
   "source": [
    "## 6. Tune Hyper parameter to find the best model"
   ]
  },
  {
   "cell_type": "code",
   "execution_count": 242,
   "metadata": {
    "collapsed": true
   },
   "outputs": [],
   "source": [
    "paramGrid = ParameterGrid({\n",
    "    'max_features': ['sqrt',0.5, 0.7],\n",
    "    'n_estimators': [100,200],\n",
    "    'n_jobs': [-1],\n",
    "    'random_state': [42]\n",
    "})\n",
    "from sklearn.metrics import precision_score"
   ]
  },
  {
   "cell_type": "code",
   "execution_count": 243,
   "metadata": {
    "collapsed": true
   },
   "outputs": [],
   "source": [
    "set_rf_samples(5000)"
   ]
  },
  {
   "cell_type": "code",
   "execution_count": 244,
   "metadata": {},
   "outputs": [
    {
     "name": "stdout",
     "output_type": "stream",
     "text": [
      "-------------FITTING MODELS-------------\n"
     ]
    },
    {
     "name": "stderr",
     "output_type": "stream",
     "text": [
      "[Parallel(n_jobs=-1)]: Done   2 out of   6 | elapsed:   51.8s remaining:  1.7min\n",
      "[Parallel(n_jobs=-1)]: Done   3 out of   6 | elapsed:  1.6min remaining:  1.6min\n",
      "[Parallel(n_jobs=-1)]: Done   4 out of   6 | elapsed:  1.7min remaining:   50.1s\n",
      "[Parallel(n_jobs=-1)]: Done   6 out of   6 | elapsed:  2.0min remaining:    0.0s\n",
      "[Parallel(n_jobs=-1)]: Done   6 out of   6 | elapsed:  2.0min finished\n"
     ]
    },
    {
     "name": "stdout",
     "output_type": "stream",
     "text": [
      "-------------SCORING MODELS-------------\n"
     ]
    },
    {
     "name": "stderr",
     "output_type": "stream",
     "text": [
      "[Parallel(n_jobs=-1)]: Done   2 out of   6 | elapsed:   18.0s remaining:   36.0s\n",
      "[Parallel(n_jobs=-1)]: Done   3 out of   6 | elapsed:   33.1s remaining:   33.1s\n",
      "[Parallel(n_jobs=-1)]: Done   4 out of   6 | elapsed:   33.3s remaining:   16.7s\n",
      "[Parallel(n_jobs=-1)]: Done   6 out of   6 | elapsed:   40.5s remaining:    0.0s\n",
      "[Parallel(n_jobs=-1)]: Done   6 out of   6 | elapsed:   40.5s finished\n"
     ]
    },
    {
     "data": {
      "image/png": "[encoded data removed]",
      "text/plain": [
       "<matplotlib.figure.Figure at 0x17541f550>"
      ]
     },
     "metadata": {},
     "output_type": "display_data"
    },
    {
     "name": "stdout",
     "output_type": "stream",
     "text": [
      "RandomForestClassifier(bootstrap=True, class_weight=None, criterion='gini',\n",
      "            max_depth=None, max_features='sqrt', max_leaf_nodes=None,\n",
      "            min_impurity_decrease=0.0, min_impurity_split=None,\n",
      "            min_samples_leaf=1, min_samples_split=2,\n",
      "            min_weight_fraction_leaf=0.0, n_estimators=200, n_jobs=-1,\n",
      "            oob_score=False, random_state=42, verbose=0, warm_start=False)\n"
     ]
    }
   ],
   "source": [
    "best_model, best_score, all_models, all_scores = pf.bestFit(RandomForestClassifier, paramGrid, \n",
    "     train_set[features], train_set['ARR_DEL15'], val_set[features], val_set['ARR_DEL15'],\n",
    "     metric = precision_score, bestScore='max', scoreLabel=\"precision_score\")\n",
    "print(best_model)"
   ]
  },
  {
   "cell_type": "code",
   "execution_count": 245,
   "metadata": {},
   "outputs": [
    {
     "name": "stdout",
     "output_type": "stream",
     "text": [
      "CPU times: user 1min 3s, sys: 13.5 s, total: 1min 16s\n",
      "Wall time: 27.5 s\n"
     ]
    },
    {
     "data": {
      "text/plain": [
       "RandomForestClassifier(bootstrap=True, class_weight=None, criterion='gini',\n",
       "            max_depth=None, max_features='sqrt', max_leaf_nodes=None,\n",
       "            min_impurity_decrease=0.0, min_impurity_split=None,\n",
       "            min_samples_leaf=1, min_samples_split=2,\n",
       "            min_weight_fraction_leaf=0.0, n_estimators=200, n_jobs=-1,\n",
       "            oob_score=False, random_state=42, verbose=0, warm_start=False)"
      ]
     },
     "execution_count": 245,
     "metadata": {},
     "output_type": "execute_result"
    }
   ],
   "source": [
    "m_best = RandomForestClassifier(bootstrap=True, class_weight=None, criterion='gini',\n",
    "            max_depth=None, max_features='sqrt', max_leaf_nodes=None,\n",
    "            min_impurity_decrease=0.0, min_impurity_split=None,\n",
    "            min_samples_leaf=1, min_samples_split=2,\n",
    "            min_weight_fraction_leaf=0.0, n_estimators=200, n_jobs=-1,\n",
    "            oob_score=False, random_state=42, verbose=0, warm_start=False)\n",
    "%time m_best.fit(train_set[features], train_set['ARR_DEL15'])"
   ]
  },
  {
   "cell_type": "code",
   "execution_count": 248,
   "metadata": {},
   "outputs": [
    {
     "name": "stdout",
     "output_type": "stream",
     "text": [
      "[0.00074500786071286101, 0.00067895020251445691]\n"
     ]
    }
   ],
   "source": [
    "print_score(m_best,train_set[features], train_set['ARR_DEL15'], val_set[features], val_set['ARR_DEL15'] )"
   ]
  },
  {
   "cell_type": "markdown",
   "metadata": {},
   "source": [
    "## Model insights\n",
    "#### Feature importance"
   ]
  },
  {
   "cell_type": "code",
   "execution_count": 254,
   "metadata": {
    "collapsed": true
   },
   "outputs": [],
   "source": [
    "fi = rf_feat_importance(m_best, train_set[features])"
   ]
  },
  {
   "cell_type": "code",
   "execution_count": 255,
   "metadata": {
    "collapsed": true
   },
   "outputs": [],
   "source": [
    "def plot_fi(fi): return fi.plot('cols', 'imp', 'barh', figsize=(12,7), legend=False)"
   ]
  },
  {
   "cell_type": "code",
   "execution_count": 256,
   "metadata": {},
   "outputs": [
    {
     "data": {
      "image/png": "[encoded data removed]",
      "text/plain": [
       "<matplotlib.figure.Figure at 0x146a87f98>"
      ]
     },
     "metadata": {},
     "output_type": "display_data"
    }
   ],
   "source": [
    "plot_fi(fi);"
   ]
  },
  {
   "cell_type": "markdown",
   "metadata": {},
   "source": [
    "lessons learnt:\n",
    "- holiday is not the most important reasons - it didn't add pressure enough to collapse the traffic\n",
    "- departure time ranks highest - rush hour is an important factor\n",
    "- flight number also ranks high - which line is an important reasons\n",
    "- population indicates the popularity of the airport, also an important factor\n",
    "\n",
    "To sum up, two type of factors matter:\n",
    "time related: hour of the day\n",
    "geo related: population and flight line"
   ]
  },
  {
   "cell_type": "markdown",
   "metadata": {},
   "source": [
    "#### Similar features"
   ]
  },
  {
   "cell_type": "code",
   "execution_count": 257,
   "metadata": {
    "collapsed": true
   },
   "outputs": [],
   "source": [
    "from scipy.cluster import hierarchy as hc"
   ]
  },
  {
   "cell_type": "code",
   "execution_count": 258,
   "metadata": {
    "collapsed": true
   },
   "outputs": [],
   "source": [
    "corr = np.round(scipy.stats.spearmanr(train_set[features]).correlation, 4)"
   ]
  },
  {
   "cell_type": "code",
   "execution_count": 260,
   "metadata": {},
   "outputs": [
    {
     "data": {
      "image/png": "[encoded data removed]",
      "text/plain": [
       "<matplotlib.figure.Figure at 0x14ef70438>"
      ]
     },
     "metadata": {},
     "output_type": "display_data"
    }
   ],
   "source": [
    "corr_condensed = hc.distance.squareform(1-corr)\n",
    "z = hc.linkage(corr_condensed, method='average')\n",
    "fig = plt.figure(figsize=(16,10))\n",
    "dendrogram = hc.dendrogram(z, labels=features, orientation='left', leaf_font_size=16)\n",
    "plt.show()"
   ]
  },
  {
   "cell_type": "markdown",
   "metadata": {},
   "source": [
    "The above graph also shows that important time or geo related features tend to correlate with each other"
   ]
  },
  {
   "cell_type": "code",
   "execution_count": null,
   "metadata": {
    "collapsed": true
   },
   "outputs": [],
   "source": []
  }
 ],
 "metadata": {
  "kernelspec": {
   "display_name": "Python 2",
   "language": "python",
   "name": "python2"
  },
  "language_info": {
   "codemirror_mode": {
    "name": "ipython",
    "version": 2
   },
   "file_extension": ".py",
   "mimetype": "text/x-python",
   "name": "python",
   "nbconvert_exporter": "python",
   "pygments_lexer": "ipython2",
   "version": "2.7.13"
  }
 },
 "nbformat": 4,
 "nbformat_minor": 2
}
